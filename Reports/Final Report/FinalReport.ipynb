{
  "metadata": {
    "kernelspec": {
      "name": "python",
      "display_name": "Python (Pyodide)",
      "language": "python"
    },
    "language_info": {
      "name": ""
    }
  },
  "nbformat_minor": 4,
  "nbformat": 4,
  "cells": [
    {
      "cell_type": "markdown",
      "source": "# 1-Problem:",
      "metadata": {}
    },
    {
      "cell_type": "markdown",
      "source": "# 2-Data Mining Task:",
      "metadata": {}
    },
    {
      "cell_type": "markdown",
      "source": "# 3-Data:",
      "metadata": {}
    },
    {
      "cell_type": "markdown",
      "source": "# 4-Data Preprocessing:",
      "metadata": {}
    },
    {
      "cell_type": "markdown",
      "source": "# 5-Data Mining Technique:",
      "metadata": {}
    },
    {
      "cell_type": "markdown",
      "source": "# 6-Evaluation And Comparison:",
      "metadata": {}
    },
    {
      "cell_type": "markdown",
      "source": "# 7-Findings:",
      "metadata": {}
    },
    {
      "cell_type": "markdown",
      "source": "# 8-Refrences:",
      "metadata": {}
    },
    {
      "cell_type": "markdown",
      "source": "[1] IZZET TURKALP AKBASLI, “Brain stroke prediction dataset,” Kaggle, Jul. 15, 2022.\n\nhttps://www.kaggle.com/datasets/zzettrkalpakbal/full-filled-brain-stroke-dataset",
      "metadata": {}
    }
  ]
}