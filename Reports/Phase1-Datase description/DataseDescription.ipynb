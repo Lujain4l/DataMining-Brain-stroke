{
  "metadata": {
    "kernelspec": {
      "name": "python",
      "display_name": "Python (Pyodide)",
      "language": "python"
    },
    "language_info": {
      "codemirror_mode": {
        "name": "python",
        "version": 3
      },
      "file_extension": ".py",
      "mimetype": "text/x-python",
      "name": "python",
      "nbconvert_exporter": "python",
      "pygments_lexer": "ipython3",
      "version": "3.8"
    }
  },
  "nbformat_minor": 4,
  "nbformat": 4,
  "cells": [
    {
      "cell_type": "markdown",
      "source": "# Brain stroke prediction dataset\n\n## The goal of collecting this dataset:\n#### The goal of this data mining project is to develop a predictive model that can accurately classify individuals as having a stroke or not based on related attributes. The model should leverage the available data to identify the most important features that contribute to the prediction of stroke and provide insights into the factors associated with stroke occurrence. By achieving this goal, we aim to improve early identification and prevention of strokes, leading to better healthcare strategies and interventions for at-risk individuals.\n\n## The source of the dataset:\n#### https://www.kaggle.com/datasets/zzettrkalpakbal/full-filled-brain-stroke-dataset\n\n",
      "metadata": {}
    },
    {
      "cell_type": "markdown",
      "source": "## General information about the dataset :\n\n### The class label:\n #### stroke\n      \n### Attributes number:\n #### 11\n\n### Attribute Information:\n1) gender: \"Male\", \"Female\" \n2) age: age of the patient(0.08-82)\n3) hypertension: 0 if the patient doesn't have hypertension, 1 if the patient has hypertension \n4) heart_disease: 0 if the patient doesn't have any heart diseases, 1 if the patient has a heart disease\n5) ever_married: \"No\" or \"Yes\" \n6) work_type: \"children\", \"Govt_jov\", \"Never_worked\", \"Private\" or \"Self-employed\" \n7) Residence_type: \"Rural\" or \"Urban\" \n8) avg_glucose_level: average glucose level in blood (55.1-272)\n9) bmi: body mass index (10.3-97.6)\n10) smoking_status: \"formerly smoked\", \"never smoked\", \"smokes\" or \"Unknown\"* \n11) stroke: 1 if the patient had a stroke or 0 if not\n\n\n\n### Attribute Type:\n1) gender: Binary (Symmetric)\n2) age: Numeric (Ratio)\n3) hypertension: Binary (Asymmetric)\n4) heart_disease: Binary (Asymmetric)\n5) ever_married: Binary (Asymmetric)\n6) work_type: Nominal\n7) Residence_type: Binary (Asymmetric)\n8) avg_glucose_level: Numeric (ratio)\n9) bmi: Numeric (ratio)\n10) smoking_status: Nominal\n11) stroke: Binary (Asymmetric)",
      "metadata": {}
    },
    {
      "cell_type": "markdown",
      "source": "## Sample of the dataset",
      "metadata": {}
    },
    {
      "cell_type": "code",
      "source": "import pandas as pd\nimport matplotlib.pyplot as plt\ndf = pd.read_csv('full_data.csv')\ndf.head()",
      "metadata": {
        "trusted": true
      },
      "outputs": [
        {
          "execution_count": 1,
          "output_type": "execute_result",
          "data": {
            "text/plain": "   gender   age  hypertension  heart_disease ever_married      work_type  \\\n0    Male  67.0             0              1          Yes        Private   \n1    Male  80.0             0              1          Yes        Private   \n2  Female  49.0             0              0          Yes        Private   \n3  Female  79.0             1              0          Yes  Self-employed   \n4    Male  81.0             0              0          Yes        Private   \n\n  Residence_type  avg_glucose_level   bmi   smoking_status  stroke  \n0          Urban             228.69  36.6  formerly smoked       1  \n1          Rural             105.92  32.5     never smoked       1  \n2          Urban             171.23  34.4           smokes       1  \n3          Rural             174.12  24.0     never smoked       1  \n4          Urban             186.21  29.0  formerly smoked       1  ",
            "text/html": "<div>\n<style scoped>\n    .dataframe tbody tr th:only-of-type {\n        vertical-align: middle;\n    }\n\n    .dataframe tbody tr th {\n        vertical-align: top;\n    }\n\n    .dataframe thead th {\n        text-align: right;\n    }\n</style>\n<table border=\"1\" class=\"dataframe\">\n  <thead>\n    <tr style=\"text-align: right;\">\n      <th></th>\n      <th>gender</th>\n      <th>age</th>\n      <th>hypertension</th>\n      <th>heart_disease</th>\n      <th>ever_married</th>\n      <th>work_type</th>\n      <th>Residence_type</th>\n      <th>avg_glucose_level</th>\n      <th>bmi</th>\n      <th>smoking_status</th>\n      <th>stroke</th>\n    </tr>\n  </thead>\n  <tbody>\n    <tr>\n      <th>0</th>\n      <td>Male</td>\n      <td>67.0</td>\n      <td>0</td>\n      <td>1</td>\n      <td>Yes</td>\n      <td>Private</td>\n      <td>Urban</td>\n      <td>228.69</td>\n      <td>36.6</td>\n      <td>formerly smoked</td>\n      <td>1</td>\n    </tr>\n    <tr>\n      <th>1</th>\n      <td>Male</td>\n      <td>80.0</td>\n      <td>0</td>\n      <td>1</td>\n      <td>Yes</td>\n      <td>Private</td>\n      <td>Rural</td>\n      <td>105.92</td>\n      <td>32.5</td>\n      <td>never smoked</td>\n      <td>1</td>\n    </tr>\n    <tr>\n      <th>2</th>\n      <td>Female</td>\n      <td>49.0</td>\n      <td>0</td>\n      <td>0</td>\n      <td>Yes</td>\n      <td>Private</td>\n      <td>Urban</td>\n      <td>171.23</td>\n      <td>34.4</td>\n      <td>smokes</td>\n      <td>1</td>\n    </tr>\n    <tr>\n      <th>3</th>\n      <td>Female</td>\n      <td>79.0</td>\n      <td>1</td>\n      <td>0</td>\n      <td>Yes</td>\n      <td>Self-employed</td>\n      <td>Rural</td>\n      <td>174.12</td>\n      <td>24.0</td>\n      <td>never smoked</td>\n      <td>1</td>\n    </tr>\n    <tr>\n      <th>4</th>\n      <td>Male</td>\n      <td>81.0</td>\n      <td>0</td>\n      <td>0</td>\n      <td>Yes</td>\n      <td>Private</td>\n      <td>Urban</td>\n      <td>186.21</td>\n      <td>29.0</td>\n      <td>formerly smoked</td>\n      <td>1</td>\n    </tr>\n  </tbody>\n</table>\n</div>"
          },
          "metadata": {}
        }
      ],
      "execution_count": 1
    }
  ]
}