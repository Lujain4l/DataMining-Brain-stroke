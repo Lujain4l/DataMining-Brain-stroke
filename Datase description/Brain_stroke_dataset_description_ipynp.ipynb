{
  "metadata": {
    "kernelspec": {
      "name": "python",
      "display_name": "Python (Pyodide)",
      "language": "python"
    },
    "language_info": {
      "codemirror_mode": {
        "name": "python",
        "version": 3
      },
      "file_extension": ".py",
      "mimetype": "text/x-python",
      "name": "python",
      "nbconvert_exporter": "python",
      "pygments_lexer": "ipython3",
      "version": "3.8"
    }
  },
  "nbformat_minor": 4,
  "nbformat": 4,
  "cells": [
    {
      "cell_type": "code",
      "source": "#Brain stroke prediction dataset\n\n#The goal of collecting this dataset: To Predict Brain stroke \n\n#The source of the dataset:https://www.kaggle.com/datasets/zzettrkalpakbal/full-filled-brain-stroke-dataset\n\n\"\"\"General information about the dataset :\n\n       -The class label: stroke\n      \n       -Attributes number:11\n      -Number of Objects:4981\n \n  \n      - Attribute Information:\n              1) gender: \"Male\", \"Female\" or \"Other\"\n              2) age: age of the patient\n              3) hypertension: 0 if the patient doesn't have hypertension, 1 if the patient has hypertension \n              4) heart_disease: 0 if the patient doesn't have any heart diseases, 1 if the patient has a heart disease\n              5) ever_married: \"No\" or \"Yes\" \n              6) work_type: \"children\", \"Govt_jov\", \"Never_worked\", \"Private\" or \"Self-employed\" \n              7) Residence_type: \"Rural\" or \"Urban\" \n              8) avg_glucose_level: average glucose level in blood\n              9) bmi: body mass index \n              10) smoking_status: \"formerly smoked\", \"never smoked\", \"smokes\" or \"Unknown\"* \n              11) stroke: 1 if the patient had a stroke or 0 if not\n\n              \n\n      - Attribute Type:\n              1) gender: Binary (Symmetric)\n              2) age: Numeric (Ratio)\n              3) hypertension: Binary (Asymmetric)\n              4) heart_disease: Binary (Asymmetric)\n              5) ever_married: Binary (Asymmetric)\n              6) work_type: Nominal\n              7) Residence_type: Binary (Asymmetric)\n              8) avg_glucose_level: Numeric (ratio)\n              9) bmi: Numeric (ratio)\n              10) smoking_status: Nominal\n              11) stroke: Binary (Asymmetric)\n\"\"\"",
      "metadata": {
        "trusted": true
      },
      "outputs": [],
      "execution_count": null
    }
  ]
}
